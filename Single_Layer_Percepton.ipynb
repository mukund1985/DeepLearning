{
  "nbformat": 4,
  "nbformat_minor": 0,
  "metadata": {
    "colab": {
      "name": "Single_Layer_Percepton.ipynb",
      "provenance": [],
      "mount_file_id": "1Xya6-pIpcrblhqS2qPdJnR5VPtogUtQu",
      "authorship_tag": "ABX9TyMNnTPybVonGRBZ0Q9aHIYZ",
      "include_colab_link": true
    },
    "kernelspec": {
      "name": "python3",
      "display_name": "Python 3"
    }
  },
  "cells": [
    {
      "cell_type": "markdown",
      "metadata": {
        "id": "view-in-github",
        "colab_type": "text"
      },
      "source": [
        "<a href=\"https://colab.research.google.com/github/mukund1985/DeepLearning/blob/master/Single_Layer_Percepton.ipynb\" target=\"_parent\"><img src=\"https://colab.research.google.com/assets/colab-badge.svg\" alt=\"Open In Colab\"/></a>"
      ]
    },
    {
      "cell_type": "code",
      "metadata": {
        "id": "MbC3X8GZtnWE"
      },
      "source": [
        "import pandas as pd\n",
        "import numpy as np\n",
        "from keras.datasets import mnist\n",
        "import tensorflow as tf"
      ],
      "execution_count": 4,
      "outputs": []
    },
    {
      "cell_type": "code",
      "metadata": {
        "id": "NG1Njs4Jtxq8"
      },
      "source": [
        "(x_train,y_train),(x_test, y_test) = tf.keras.datasets.mnist.load_data()"
      ],
      "execution_count": 23,
      "outputs": []
    },
    {
      "cell_type": "code",
      "metadata": {
        "id": "IKwFt98f5SqF",
        "outputId": "4060c4b3-aa11-43a1-f009-3b19a66d4952",
        "colab": {
          "base_uri": "https://localhost:8080/"
        }
      },
      "source": [
        "print(x_train.shape)\n",
        "print(y_train.shape)\n",
        "print(x_test.shape)\n",
        "print(y_test.shape)"
      ],
      "execution_count": 24,
      "outputs": [
        {
          "output_type": "stream",
          "text": [
            "(60000, 28, 28)\n",
            "(60000,)\n",
            "(10000, 28, 28)\n",
            "(10000,)\n"
          ],
          "name": "stdout"
        }
      ]
    },
    {
      "cell_type": "code",
      "metadata": {
        "id": "zeRi4XUd5aSL",
        "outputId": "7b6a955d-0012-4739-cd09-5192055f3f83",
        "colab": {
          "base_uri": "https://localhost:8080/"
        }
      },
      "source": [
        "print(y_train.shape)"
      ],
      "execution_count": 25,
      "outputs": [
        {
          "output_type": "stream",
          "text": [
            "(60000,)\n"
          ],
          "name": "stdout"
        }
      ]
    },
    {
      "cell_type": "code",
      "metadata": {
        "id": "9VlrsFKs5dUg",
        "outputId": "df95563e-c00a-4f9a-ed94-75a1cac2037c",
        "colab": {
          "base_uri": "https://localhost:8080/"
        }
      },
      "source": [
        "print(x_test.shape)"
      ],
      "execution_count": 26,
      "outputs": [
        {
          "output_type": "stream",
          "text": [
            "(10000, 28, 28)\n"
          ],
          "name": "stdout"
        }
      ]
    },
    {
      "cell_type": "code",
      "metadata": {
        "id": "ukNtJef05hG5",
        "outputId": "fa1d0743-d85c-4f83-b1d0-5bfdc07723d4",
        "colab": {
          "base_uri": "https://localhost:8080/"
        }
      },
      "source": [
        "print(y_test.shape)"
      ],
      "execution_count": 27,
      "outputs": [
        {
          "output_type": "stream",
          "text": [
            "(10000,)\n"
          ],
          "name": "stdout"
        }
      ]
    },
    {
      "cell_type": "markdown",
      "metadata": {
        "id": "03no1lmo56J4"
      },
      "source": [
        "**Convert 3D to 2D**"
      ]
    },
    {
      "cell_type": "code",
      "metadata": {
        "id": "-TZk6--45sQg"
      },
      "source": [
        "x_train = x_train.reshape(60000,784)\n",
        "x_test = x_test.reshape(10000,784)"
      ],
      "execution_count": 29,
      "outputs": []
    },
    {
      "cell_type": "code",
      "metadata": {
        "id": "esTlFAI86DzD",
        "outputId": "10ed4ddb-48d0-4b47-b43d-e31176083237",
        "colab": {
          "base_uri": "https://localhost:8080/"
        }
      },
      "source": [
        "print(x_train.shape)\n",
        "print(x_test.shape)"
      ],
      "execution_count": 30,
      "outputs": [
        {
          "output_type": "stream",
          "text": [
            "(60000, 784)\n",
            "(10000, 784)\n"
          ],
          "name": "stdout"
        }
      ]
    },
    {
      "cell_type": "code",
      "metadata": {
        "id": "D3aFDglG6Uq6"
      },
      "source": [
        "from sklearn.linear_model import Perceptron\n",
        "from sklearn.metrics import accuracy_score\n",
        "from sklearn.metrics import confusion_matrix"
      ],
      "execution_count": 31,
      "outputs": []
    },
    {
      "cell_type": "code",
      "metadata": {
        "id": "ZFZlwVdZ66oi",
        "outputId": "30de6615-6cb6-450a-af9c-a908f903664e",
        "colab": {
          "base_uri": "https://localhost:8080/"
        }
      },
      "source": [
        "per = Perceptron(max_iter=2500, verbose=1)\n",
        "per.fit(x_train, y_train)\n",
        "preds_perceptron_train = per.predict(x_train)\n",
        "preds_perceptron_test = per.predict(x_test)"
      ],
      "execution_count": 32,
      "outputs": [
        {
          "output_type": "stream",
          "text": [
            "[Parallel(n_jobs=1)]: Using backend SequentialBackend with 1 concurrent workers.\n"
          ],
          "name": "stderr"
        },
        {
          "output_type": "stream",
          "text": [
            "-- Epoch 1\n",
            "Norm: 41186.84, NNZs: 613, Bias: -160.000000, T: 60000, Avg. loss: 48658.024200\n",
            "Total training time: 0.09 seconds.\n",
            "-- Epoch 2\n",
            "Norm: 50282.32, NNZs: 621, Bias: -277.000000, T: 120000, Avg. loss: 43231.527567\n",
            "Total training time: 0.18 seconds.\n",
            "-- Epoch 3\n",
            "Norm: 58536.26, NNZs: 627, Bias: -395.000000, T: 180000, Avg. loss: 42484.353767\n",
            "Total training time: 0.28 seconds.\n",
            "-- Epoch 4\n",
            "Norm: 65073.46, NNZs: 634, Bias: -497.000000, T: 240000, Avg. loss: 42211.443367\n",
            "Total training time: 0.38 seconds.\n",
            "-- Epoch 5\n",
            "Norm: 69777.06, NNZs: 636, Bias: -601.000000, T: 300000, Avg. loss: 41042.617033\n",
            "Total training time: 0.47 seconds.\n",
            "-- Epoch 6\n",
            "Norm: 73210.39, NNZs: 636, Bias: -702.000000, T: 360000, Avg. loss: 42239.062300\n",
            "Total training time: 0.56 seconds.\n",
            "-- Epoch 7\n",
            "Norm: 77132.57, NNZs: 638, Bias: -807.000000, T: 420000, Avg. loss: 40945.822167\n",
            "Total training time: 0.66 seconds.\n",
            "-- Epoch 8\n",
            "Norm: 81110.95, NNZs: 640, Bias: -895.000000, T: 480000, Avg. loss: 38370.432617\n",
            "Total training time: 0.75 seconds.\n",
            "-- Epoch 9\n",
            "Norm: 84058.85, NNZs: 642, Bias: -992.000000, T: 540000, Avg. loss: 40060.780683\n",
            "Total training time: 0.85 seconds.\n",
            "-- Epoch 10\n",
            "Norm: 86679.41, NNZs: 642, Bias: -1085.000000, T: 600000, Avg. loss: 38698.217150\n",
            "Total training time: 0.94 seconds.\n",
            "-- Epoch 11\n",
            "Norm: 89620.80, NNZs: 642, Bias: -1174.000000, T: 660000, Avg. loss: 39187.442700\n",
            "Total training time: 1.03 seconds.\n",
            "-- Epoch 12\n",
            "Norm: 91487.93, NNZs: 642, Bias: -1273.000000, T: 720000, Avg. loss: 40992.189433\n",
            "Total training time: 1.13 seconds.\n",
            "-- Epoch 13\n",
            "Norm: 95081.21, NNZs: 644, Bias: -1373.000000, T: 780000, Avg. loss: 38560.958717\n",
            "Total training time: 1.22 seconds.\n",
            "Convergence after 13 epochs took 1.22 seconds\n",
            "-- Epoch 1\n",
            "Norm: 29144.50, NNZs: 573, Bias: -41.000000, T: 60000, Avg. loss: 29161.537850\n",
            "Total training time: 0.09 seconds.\n",
            "-- Epoch 2\n",
            "Norm: 36562.18, NNZs: 595, Bias: -75.000000, T: 120000, Avg. loss: 25673.451933\n",
            "Total training time: 0.19 seconds.\n",
            "-- Epoch 3\n",
            "Norm: 41749.94, NNZs: 603, Bias: -97.000000, T: 180000, Avg. loss: 25293.159467\n",
            "Total training time: 0.28 seconds.\n",
            "-- Epoch 4\n",
            "Norm: 45575.31, NNZs: 618, Bias: -120.000000, T: 240000, Avg. loss: 25421.411133\n",
            "Total training time: 0.38 seconds.\n",
            "-- Epoch 5\n",
            "Norm: 48019.08, NNZs: 627, Bias: -146.000000, T: 300000, Avg. loss: 24413.233483\n",
            "Total training time: 0.47 seconds.\n",
            "-- Epoch 6\n",
            "Norm: 51362.12, NNZs: 629, Bias: -164.000000, T: 360000, Avg. loss: 24802.007667\n",
            "Total training time: 0.56 seconds.\n",
            "-- Epoch 7\n",
            "Norm: 54594.91, NNZs: 631, Bias: -184.000000, T: 420000, Avg. loss: 24097.799317\n",
            "Total training time: 0.65 seconds.\n",
            "-- Epoch 8\n",
            "Norm: 56865.13, NNZs: 634, Bias: -202.000000, T: 480000, Avg. loss: 23764.441450\n",
            "Total training time: 0.75 seconds.\n",
            "-- Epoch 9\n",
            "Norm: 58909.43, NNZs: 636, Bias: -230.000000, T: 540000, Avg. loss: 23672.727217\n",
            "Total training time: 0.84 seconds.\n",
            "-- Epoch 10\n",
            "Norm: 61395.36, NNZs: 636, Bias: -243.000000, T: 600000, Avg. loss: 23811.484383\n",
            "Total training time: 0.93 seconds.\n",
            "-- Epoch 11\n",
            "Norm: 64022.51, NNZs: 639, Bias: -265.000000, T: 660000, Avg. loss: 23184.549117\n",
            "Total training time: 1.03 seconds.\n",
            "-- Epoch 12\n",
            "Norm: 66382.58, NNZs: 640, Bias: -284.000000, T: 720000, Avg. loss: 24366.988633\n",
            "Total training time: 1.12 seconds.\n",
            "-- Epoch 13\n",
            "Norm: 68037.51, NNZs: 641, Bias: -308.000000, T: 780000, Avg. loss: 23358.049233\n",
            "Total training time: 1.21 seconds.\n",
            "-- Epoch 14\n",
            "Norm: 69907.14, NNZs: 641, Bias: -326.000000, T: 840000, Avg. loss: 22397.132017\n",
            "Total training time: 1.31 seconds.\n",
            "-- Epoch 15\n",
            "Norm: 71889.20, NNZs: 641, Bias: -339.000000, T: 900000, Avg. loss: 22972.421550\n",
            "Total training time: 1.40 seconds.\n",
            "-- Epoch 16\n",
            "Norm: 73677.10, NNZs: 643, Bias: -343.000000, T: 960000, Avg. loss: 22841.842450\n",
            "Total training time: 1.49 seconds.\n",
            "-- Epoch 17\n",
            "Norm: 75581.27, NNZs: 643, Bias: -361.000000, T: 1020000, Avg. loss: 22848.709717\n",
            "Total training time: 1.59 seconds.\n",
            "-- Epoch 18\n",
            "Norm: 77414.37, NNZs: 644, Bias: -375.000000, T: 1080000, Avg. loss: 22858.554200\n",
            "Total training time: 1.68 seconds.\n",
            "-- Epoch 19\n",
            "Norm: 78784.64, NNZs: 644, Bias: -397.000000, T: 1140000, Avg. loss: 22669.133783\n",
            "Total training time: 1.78 seconds.\n",
            "Convergence after 19 epochs took 1.78 seconds\n",
            "-- Epoch 1\n",
            "Norm: 41439.14, NNZs: 653, Bias: -146.000000, T: 60000, Avg. loss: 98151.095600\n",
            "Total training time: 0.09 seconds.\n",
            "-- Epoch 2\n",
            "Norm: 48960.74, NNZs: 658, Bias: -261.000000, T: 120000, Avg. loss: 94102.338850\n",
            "Total training time: 0.19 seconds.\n",
            "-- Epoch 3\n",
            "Norm: 55892.16, NNZs: 659, Bias: -383.000000, T: 180000, Avg. loss: 93654.671850\n",
            "Total training time: 0.28 seconds.\n",
            "-- Epoch 4\n",
            "Norm: 59900.96, NNZs: 663, Bias: -482.000000, T: 240000, Avg. loss: 92012.508500\n",
            "Total training time: 0.38 seconds.\n",
            "-- Epoch 5\n",
            "Norm: 63855.29, NNZs: 669, Bias: -596.000000, T: 300000, Avg. loss: 94599.548217\n",
            "Total training time: 0.47 seconds.\n",
            "-- Epoch 6\n",
            "Norm: 65322.79, NNZs: 671, Bias: -679.000000, T: 360000, Avg. loss: 92310.604467\n",
            "Total training time: 0.57 seconds.\n",
            "-- Epoch 7\n",
            "Norm: 67342.28, NNZs: 674, Bias: -773.000000, T: 420000, Avg. loss: 92979.061500\n",
            "Total training time: 0.67 seconds.\n",
            "-- Epoch 8\n",
            "Norm: 70680.88, NNZs: 674, Bias: -871.000000, T: 480000, Avg. loss: 93371.669417\n",
            "Total training time: 0.76 seconds.\n",
            "-- Epoch 9\n",
            "Norm: 72996.99, NNZs: 674, Bias: -959.000000, T: 540000, Avg. loss: 91173.801200\n",
            "Total training time: 0.85 seconds.\n",
            "-- Epoch 10\n",
            "Norm: 75012.83, NNZs: 674, Bias: -1061.000000, T: 600000, Avg. loss: 91147.260783\n",
            "Total training time: 0.95 seconds.\n",
            "-- Epoch 11\n",
            "Norm: 78092.56, NNZs: 674, Bias: -1173.000000, T: 660000, Avg. loss: 93247.120050\n",
            "Total training time: 1.05 seconds.\n",
            "-- Epoch 12\n",
            "Norm: 79438.04, NNZs: 674, Bias: -1275.000000, T: 720000, Avg. loss: 95258.242950\n",
            "Total training time: 1.14 seconds.\n",
            "-- Epoch 13\n",
            "Norm: 80750.56, NNZs: 674, Bias: -1360.000000, T: 780000, Avg. loss: 92243.499967\n",
            "Total training time: 1.23 seconds.\n",
            "-- Epoch 14\n",
            "Norm: 83132.10, NNZs: 674, Bias: -1465.000000, T: 840000, Avg. loss: 93141.465983\n",
            "Total training time: 1.33 seconds.\n",
            "-- Epoch 15\n",
            "Norm: 85274.01, NNZs: 675, Bias: -1565.000000, T: 900000, Avg. loss: 92554.088367\n",
            "Total training time: 1.42 seconds.\n",
            "Convergence after 15 epochs took 1.42 seconds\n",
            "-- Epoch 1\n",
            "Norm: 39344.17, NNZs: 617, Bias: -278.000000, T: 60000, Avg. loss: 130148.627700\n",
            "Total training time: 0.10 seconds.\n",
            "-- Epoch 2\n",
            "Norm: 46965.35, NNZs: 625, Bias: -520.000000, T: 120000, Avg. loss: 121944.730217\n",
            "Total training time: 0.19 seconds.\n",
            "-- Epoch 3\n",
            "Norm: 50616.20, NNZs: 631, Bias: -764.000000, T: 180000, Avg. loss: 124674.270000\n",
            "Total training time: 0.29 seconds.\n",
            "-- Epoch 4\n",
            "Norm: 55091.76, NNZs: 632, Bias: -1008.000000, T: 240000, Avg. loss: 123031.963067\n",
            "Total training time: 0.39 seconds.\n",
            "-- Epoch 5\n",
            "Norm: 59251.66, NNZs: 636, Bias: -1252.000000, T: 300000, Avg. loss: 122663.495683\n",
            "Total training time: 0.48 seconds.\n",
            "-- Epoch 6\n",
            "Norm: 61651.06, NNZs: 636, Bias: -1473.000000, T: 360000, Avg. loss: 121566.065867\n",
            "Total training time: 0.58 seconds.\n",
            "-- Epoch 7\n",
            "Norm: 65453.22, NNZs: 636, Bias: -1697.000000, T: 420000, Avg. loss: 122486.523333\n",
            "Total training time: 0.67 seconds.\n",
            "-- Epoch 8\n",
            "Norm: 67379.08, NNZs: 636, Bias: -1933.000000, T: 480000, Avg. loss: 123110.202217\n",
            "Total training time: 0.77 seconds.\n",
            "-- Epoch 9\n",
            "Norm: 70255.15, NNZs: 637, Bias: -2155.000000, T: 540000, Avg. loss: 120304.067150\n",
            "Total training time: 0.87 seconds.\n",
            "-- Epoch 10\n",
            "Norm: 72254.05, NNZs: 637, Bias: -2369.000000, T: 600000, Avg. loss: 120230.847817\n",
            "Total training time: 0.96 seconds.\n",
            "-- Epoch 11\n",
            "Norm: 72961.44, NNZs: 640, Bias: -2595.000000, T: 660000, Avg. loss: 122007.686233\n",
            "Total training time: 1.06 seconds.\n",
            "-- Epoch 12\n",
            "Norm: 73952.69, NNZs: 641, Bias: -2822.000000, T: 720000, Avg. loss: 123586.979400\n",
            "Total training time: 1.15 seconds.\n",
            "-- Epoch 13\n",
            "Norm: 75514.80, NNZs: 640, Bias: -3057.000000, T: 780000, Avg. loss: 122966.641933\n",
            "Total training time: 1.25 seconds.\n",
            "-- Epoch 14\n",
            "Norm: 77923.80, NNZs: 640, Bias: -3290.000000, T: 840000, Avg. loss: 121552.608117\n",
            "Total training time: 1.35 seconds.\n",
            "-- Epoch 15\n",
            "Norm: 78143.40, NNZs: 644, Bias: -3520.000000, T: 900000, Avg. loss: 120250.106450\n",
            "Total training time: 1.44 seconds.\n",
            "Convergence after 15 epochs took 1.44 seconds\n",
            "-- Epoch 1\n",
            "Norm: 42460.03, NNZs: 646, Bias: -100.000000, T: 60000, Avg. loss: 70640.744283\n",
            "Total training time: 0.09 seconds.\n",
            "-- Epoch 2\n",
            "Norm: 51950.42, NNZs: 659, Bias: -186.000000, T: 120000, Avg. loss: 66106.133233\n",
            "Total training time: 0.19 seconds.\n",
            "-- Epoch 3\n",
            "Norm: 59151.23, NNZs: 663, Bias: -255.000000, T: 180000, Avg. loss: 64334.880233\n",
            "Total training time: 0.28 seconds.\n",
            "-- Epoch 4\n",
            "Norm: 64581.43, NNZs: 664, Bias: -330.000000, T: 240000, Avg. loss: 63583.794850\n",
            "Total training time: 0.37 seconds.\n",
            "-- Epoch 5\n",
            "Norm: 68822.20, NNZs: 670, Bias: -399.000000, T: 300000, Avg. loss: 62319.439800\n",
            "Total training time: 0.47 seconds.\n",
            "-- Epoch 6\n",
            "Norm: 72697.32, NNZs: 672, Bias: -463.000000, T: 360000, Avg. loss: 63280.988633\n",
            "Total training time: 0.56 seconds.\n",
            "-- Epoch 7\n",
            "Norm: 76573.19, NNZs: 673, Bias: -526.000000, T: 420000, Avg. loss: 61896.467167\n",
            "Total training time: 0.65 seconds.\n",
            "-- Epoch 8\n",
            "Norm: 79896.25, NNZs: 674, Bias: -598.000000, T: 480000, Avg. loss: 63909.062967\n",
            "Total training time: 0.75 seconds.\n",
            "-- Epoch 9\n",
            "Norm: 81867.01, NNZs: 678, Bias: -670.000000, T: 540000, Avg. loss: 62495.405033\n",
            "Total training time: 0.84 seconds.\n",
            "-- Epoch 10\n",
            "Norm: 84726.02, NNZs: 678, Bias: -746.000000, T: 600000, Avg. loss: 61229.219133\n",
            "Total training time: 0.94 seconds.\n",
            "-- Epoch 11\n",
            "Norm: 86803.07, NNZs: 678, Bias: -818.000000, T: 660000, Avg. loss: 61845.843183\n",
            "Total training time: 1.03 seconds.\n",
            "-- Epoch 12\n",
            "Norm: 89360.40, NNZs: 678, Bias: -873.000000, T: 720000, Avg. loss: 61899.857717\n",
            "Total training time: 1.12 seconds.\n",
            "-- Epoch 13\n",
            "Norm: 90412.06, NNZs: 678, Bias: -930.000000, T: 780000, Avg. loss: 63017.832850\n",
            "Total training time: 1.22 seconds.\n",
            "-- Epoch 14\n",
            "Norm: 92322.51, NNZs: 678, Bias: -989.000000, T: 840000, Avg. loss: 62940.676167\n",
            "Total training time: 1.32 seconds.\n",
            "-- Epoch 15\n",
            "Norm: 94086.86, NNZs: 679, Bias: -1047.000000, T: 900000, Avg. loss: 64467.854500\n",
            "Total training time: 1.41 seconds.\n",
            "Convergence after 15 epochs took 1.41 seconds\n",
            "-- Epoch 1\n",
            "Norm: 47500.32, NNZs: 629, Bias: 64.000000, T: 60000, Avg. loss: 121661.339367\n",
            "Total training time: 0.10 seconds.\n",
            "-- Epoch 2\n",
            "Norm: 57398.92, NNZs: 639, Bias: 136.000000, T: 120000, Avg. loss: 119332.214467\n",
            "Total training time: 0.19 seconds.\n",
            "-- Epoch 3\n",
            "Norm: 65138.25, NNZs: 642, Bias: 201.000000, T: 180000, Avg. loss: 115851.997767\n",
            "Total training time: 0.29 seconds.\n",
            "-- Epoch 4\n",
            "Norm: 72290.42, NNZs: 649, Bias: 279.000000, T: 240000, Avg. loss: 115875.017017\n",
            "Total training time: 0.39 seconds.\n",
            "-- Epoch 5\n",
            "Norm: 76694.77, NNZs: 649, Bias: 363.000000, T: 300000, Avg. loss: 113951.402733\n",
            "Total training time: 0.49 seconds.\n",
            "-- Epoch 6\n",
            "Norm: 80688.34, NNZs: 649, Bias: 438.000000, T: 360000, Avg. loss: 115119.180017\n",
            "Total training time: 0.58 seconds.\n",
            "-- Epoch 7\n",
            "Norm: 85807.05, NNZs: 649, Bias: 526.000000, T: 420000, Avg. loss: 114979.178517\n",
            "Total training time: 0.68 seconds.\n",
            "-- Epoch 8\n",
            "Norm: 89340.47, NNZs: 650, Bias: 601.000000, T: 480000, Avg. loss: 112900.080800\n",
            "Total training time: 0.77 seconds.\n",
            "-- Epoch 9\n",
            "Norm: 91035.35, NNZs: 650, Bias: 682.000000, T: 540000, Avg. loss: 112771.503450\n",
            "Total training time: 0.87 seconds.\n",
            "-- Epoch 10\n",
            "Norm: 93294.10, NNZs: 654, Bias: 773.000000, T: 600000, Avg. loss: 112757.695967\n",
            "Total training time: 0.96 seconds.\n",
            "-- Epoch 11\n",
            "Norm: 94419.52, NNZs: 658, Bias: 848.000000, T: 660000, Avg. loss: 113234.399517\n",
            "Total training time: 1.06 seconds.\n",
            "-- Epoch 12\n",
            "Norm: 97768.90, NNZs: 658, Bias: 916.000000, T: 720000, Avg. loss: 112548.514283\n",
            "Total training time: 1.16 seconds.\n",
            "-- Epoch 13\n",
            "Norm: 99319.95, NNZs: 658, Bias: 986.000000, T: 780000, Avg. loss: 111300.609633\n",
            "Total training time: 1.25 seconds.\n",
            "-- Epoch 14\n",
            "Norm: 101782.10, NNZs: 659, Bias: 1069.000000, T: 840000, Avg. loss: 111444.272550\n",
            "Total training time: 1.35 seconds.\n",
            "-- Epoch 15\n",
            "Norm: 104226.59, NNZs: 659, Bias: 1136.000000, T: 900000, Avg. loss: 113525.662567\n",
            "Total training time: 1.45 seconds.\n",
            "-- Epoch 16\n",
            "Norm: 104485.52, NNZs: 659, Bias: 1207.000000, T: 960000, Avg. loss: 112525.674517\n",
            "Total training time: 1.54 seconds.\n",
            "-- Epoch 17\n",
            "Norm: 105684.78, NNZs: 658, Bias: 1277.000000, T: 1020000, Avg. loss: 110601.659367\n",
            "Total training time: 1.64 seconds.\n",
            "-- Epoch 18\n",
            "Norm: 107929.38, NNZs: 659, Bias: 1355.000000, T: 1080000, Avg. loss: 109865.778933\n",
            "Total training time: 1.73 seconds.\n",
            "-- Epoch 19\n",
            "Norm: 110164.62, NNZs: 660, Bias: 1421.000000, T: 1140000, Avg. loss: 110870.575900\n",
            "Total training time: 1.83 seconds.\n",
            "-- Epoch 20\n",
            "Norm: 109925.76, NNZs: 660, Bias: 1494.000000, T: 1200000, Avg. loss: 110635.207367\n",
            "Total training time: 1.92 seconds.\n",
            "-- Epoch 21\n",
            "Norm: 111132.18, NNZs: 660, Bias: 1572.000000, T: 1260000, Avg. loss: 112049.142767\n",
            "Total training time: 2.02 seconds.\n",
            "-- Epoch 22\n",
            "Norm: 112668.54, NNZs: 660, Bias: 1650.000000, T: 1320000, Avg. loss: 110842.197883\n",
            "Total training time: 2.11 seconds.\n",
            "-- Epoch 23\n",
            "Norm: 113659.64, NNZs: 661, Bias: 1726.000000, T: 1380000, Avg. loss: 112443.332533\n",
            "Total training time: 2.21 seconds.\n",
            "Convergence after 23 epochs took 2.21 seconds\n",
            "-- Epoch 1\n",
            "Norm: 37501.12, NNZs: 601, Bias: -170.000000, T: 60000, Avg. loss: 63776.251017\n",
            "Total training time: 0.10 seconds.\n",
            "-- Epoch 2\n",
            "Norm: 44815.91, NNZs: 609, Bias: -305.000000, T: 120000, Avg. loss: 58934.992967\n",
            "Total training time: 0.19 seconds.\n",
            "-- Epoch 3\n",
            "Norm: 49315.03, NNZs: 612, Bias: -445.000000, T: 180000, Avg. loss: 60551.027667\n",
            "Total training time: 0.29 seconds.\n",
            "-- Epoch 4\n",
            "Norm: 54226.49, NNZs: 615, Bias: -571.000000, T: 240000, Avg. loss: 59611.745650\n",
            "Total training time: 0.38 seconds.\n",
            "-- Epoch 5\n",
            "Norm: 57728.78, NNZs: 615, Bias: -709.000000, T: 300000, Avg. loss: 56552.629000\n",
            "Total training time: 0.48 seconds.\n",
            "-- Epoch 6\n",
            "Norm: 59850.31, NNZs: 620, Bias: -835.000000, T: 360000, Avg. loss: 59235.092683\n",
            "Total training time: 0.57 seconds.\n",
            "-- Epoch 7\n",
            "Norm: 62502.73, NNZs: 620, Bias: -965.000000, T: 420000, Avg. loss: 57494.036017\n",
            "Total training time: 0.66 seconds.\n",
            "-- Epoch 8\n",
            "Norm: 65482.45, NNZs: 621, Bias: -1101.000000, T: 480000, Avg. loss: 58149.648583\n",
            "Total training time: 0.76 seconds.\n",
            "-- Epoch 9\n",
            "Norm: 67658.00, NNZs: 622, Bias: -1220.000000, T: 540000, Avg. loss: 56717.580667\n",
            "Total training time: 0.86 seconds.\n",
            "-- Epoch 10\n",
            "Norm: 69869.86, NNZs: 622, Bias: -1340.000000, T: 600000, Avg. loss: 56895.129433\n",
            "Total training time: 0.95 seconds.\n",
            "Convergence after 10 epochs took 0.95 seconds\n",
            "-- Epoch 1\n",
            "Norm: 35133.65, NNZs: 599, Bias: -23.000000, T: 60000, Avg. loss: 58263.798967\n",
            "Total training time: 0.10 seconds.\n",
            "-- Epoch 2\n",
            "Norm: 41313.48, NNZs: 614, Bias: -52.000000, T: 120000, Avg. loss: 58636.476533\n",
            "Total training time: 0.19 seconds.\n",
            "-- Epoch 3\n",
            "Norm: 46718.83, NNZs: 619, Bias: -68.000000, T: 180000, Avg. loss: 56900.910700\n",
            "Total training time: 0.29 seconds.\n",
            "-- Epoch 4\n",
            "Norm: 49344.07, NNZs: 624, Bias: -83.000000, T: 240000, Avg. loss: 59032.330500\n",
            "Total training time: 0.38 seconds.\n",
            "-- Epoch 5\n",
            "Norm: 53540.22, NNZs: 625, Bias: -92.000000, T: 300000, Avg. loss: 55014.520783\n",
            "Total training time: 0.48 seconds.\n",
            "-- Epoch 6\n",
            "Norm: 56107.49, NNZs: 630, Bias: -99.000000, T: 360000, Avg. loss: 56642.113833\n",
            "Total training time: 0.57 seconds.\n",
            "-- Epoch 7\n",
            "Norm: 59799.77, NNZs: 632, Bias: -116.000000, T: 420000, Avg. loss: 54856.802983\n",
            "Total training time: 0.66 seconds.\n",
            "-- Epoch 8\n",
            "Norm: 62080.26, NNZs: 637, Bias: -123.000000, T: 480000, Avg. loss: 56901.601183\n",
            "Total training time: 0.76 seconds.\n",
            "-- Epoch 9\n",
            "Norm: 63576.63, NNZs: 637, Bias: -126.000000, T: 540000, Avg. loss: 57185.488033\n",
            "Total training time: 0.85 seconds.\n",
            "-- Epoch 10\n",
            "Norm: 64813.15, NNZs: 637, Bias: -126.000000, T: 600000, Avg. loss: 55809.263950\n",
            "Total training time: 0.95 seconds.\n",
            "-- Epoch 11\n",
            "Norm: 66348.21, NNZs: 638, Bias: -141.000000, T: 660000, Avg. loss: 55180.968000\n",
            "Total training time: 1.04 seconds.\n",
            "-- Epoch 12\n",
            "Norm: 67929.49, NNZs: 640, Bias: -154.000000, T: 720000, Avg. loss: 56104.635467\n",
            "Total training time: 1.14 seconds.\n",
            "Convergence after 12 epochs took 1.14 seconds\n",
            "-- Epoch 1\n",
            "Norm: 45001.62, NNZs: 630, Bias: -790.000000, T: 60000, Avg. loss: 239442.619350\n",
            "Total training time: 0.10 seconds.\n",
            "-- Epoch 2\n",
            "Norm: 54177.20, NNZs: 638, Bias: -1523.000000, T: 120000, Avg. loss: 238637.237033\n",
            "Total training time: 0.20 seconds.\n",
            "-- Epoch 3\n",
            "Norm: 59489.35, NNZs: 644, Bias: -2215.000000, T: 180000, Avg. loss: 234545.153500\n",
            "Total training time: 0.30 seconds.\n",
            "-- Epoch 4\n",
            "Norm: 65377.51, NNZs: 648, Bias: -2935.000000, T: 240000, Avg. loss: 239067.853000\n",
            "Total training time: 0.40 seconds.\n",
            "-- Epoch 5\n",
            "Norm: 68188.85, NNZs: 648, Bias: -3621.000000, T: 300000, Avg. loss: 233465.455033\n",
            "Total training time: 0.50 seconds.\n",
            "-- Epoch 6\n",
            "Norm: 70918.47, NNZs: 649, Bias: -4324.000000, T: 360000, Avg. loss: 240743.888233\n",
            "Total training time: 0.60 seconds.\n",
            "-- Epoch 7\n",
            "Norm: 73185.98, NNZs: 650, Bias: -5018.000000, T: 420000, Avg. loss: 234913.668117\n",
            "Total training time: 0.70 seconds.\n",
            "-- Epoch 8\n",
            "Norm: 74707.86, NNZs: 654, Bias: -5705.000000, T: 480000, Avg. loss: 232965.107583\n",
            "Total training time: 0.80 seconds.\n",
            "-- Epoch 9\n",
            "Norm: 76589.37, NNZs: 656, Bias: -6399.000000, T: 540000, Avg. loss: 239909.447550\n",
            "Total training time: 0.90 seconds.\n",
            "-- Epoch 10\n",
            "Norm: 78606.32, NNZs: 658, Bias: -7083.000000, T: 600000, Avg. loss: 234391.867400\n",
            "Total training time: 1.00 seconds.\n",
            "-- Epoch 11\n",
            "Norm: 80433.11, NNZs: 660, Bias: -7789.000000, T: 660000, Avg. loss: 237532.099250\n",
            "Total training time: 1.10 seconds.\n",
            "-- Epoch 12\n",
            "Norm: 82912.14, NNZs: 668, Bias: -8499.000000, T: 720000, Avg. loss: 237083.305633\n",
            "Total training time: 1.20 seconds.\n",
            "-- Epoch 13\n",
            "Norm: 83966.11, NNZs: 672, Bias: -9207.000000, T: 780000, Avg. loss: 236843.738767\n",
            "Total training time: 1.30 seconds.\n",
            "Convergence after 13 epochs took 1.30 seconds\n",
            "-- Epoch 1\n",
            "Norm: 42982.17, NNZs: 634, Bias: -348.000000, T: 60000, Avg. loss: 157594.693633\n",
            "Total training time: 0.10 seconds.\n",
            "-- Epoch 2\n",
            "Norm: 51969.08, NNZs: 650, Bias: -663.000000, T: 120000, Avg. loss: 153551.886917\n",
            "Total training time: 0.20 seconds.\n",
            "-- Epoch 3\n",
            "Norm: 56108.76, NNZs: 659, Bias: -970.000000, T: 180000, Avg. loss: 155801.836883\n",
            "Total training time: 0.30 seconds.\n",
            "-- Epoch 4\n",
            "Norm: 61882.15, NNZs: 662, Bias: -1282.000000, T: 240000, Avg. loss: 155002.885733\n",
            "Total training time: 0.39 seconds.\n",
            "-- Epoch 5\n",
            "Norm: 63210.54, NNZs: 667, Bias: -1585.000000, T: 300000, Avg. loss: 155149.517233\n",
            "Total training time: 0.49 seconds.\n",
            "-- Epoch 6\n",
            "Norm: 66887.40, NNZs: 667, Bias: -1885.000000, T: 360000, Avg. loss: 155461.056233\n",
            "Total training time: 0.59 seconds.\n",
            "-- Epoch 7\n",
            "Norm: 69665.16, NNZs: 667, Bias: -2195.000000, T: 420000, Avg. loss: 152264.120283\n",
            "Total training time: 0.68 seconds.\n",
            "-- Epoch 8\n",
            "Norm: 71616.04, NNZs: 670, Bias: -2503.000000, T: 480000, Avg. loss: 153636.021133\n",
            "Total training time: 0.78 seconds.\n",
            "-- Epoch 9\n",
            "Norm: 74739.23, NNZs: 670, Bias: -2801.000000, T: 540000, Avg. loss: 151640.911883\n",
            "Total training time: 0.88 seconds.\n",
            "-- Epoch 10\n",
            "Norm: 76043.11, NNZs: 669, Bias: -3100.000000, T: 600000, Avg. loss: 153103.252917\n",
            "Total training time: 0.98 seconds.\n",
            "-- Epoch 11\n",
            "Norm: 78612.10, NNZs: 670, Bias: -3408.000000, T: 660000, Avg. loss: 153396.857500\n",
            "Total training time: 1.07 seconds.\n",
            "-- Epoch 12\n",
            "Norm: 79887.87, NNZs: 670, Bias: -3702.000000, T: 720000, Avg. loss: 151985.718783\n",
            "Total training time: 1.17 seconds.\n",
            "-- Epoch 13\n",
            "Norm: 81532.68, NNZs: 674, Bias: -4005.000000, T: 780000, Avg. loss: 153387.596583\n",
            "Total training time: 1.26 seconds.\n",
            "-- Epoch 14\n",
            "Norm: 83193.75, NNZs: 679, Bias: -4300.000000, T: 840000, Avg. loss: 155042.569117\n",
            "Total training time: 1.36 seconds.\n",
            "Convergence after 14 epochs took 1.36 seconds\n"
          ],
          "name": "stdout"
        },
        {
          "output_type": "stream",
          "text": [
            "[Parallel(n_jobs=1)]: Done  10 out of  10 | elapsed:   14.2s finished\n"
          ],
          "name": "stderr"
        }
      ]
    },
    {
      "cell_type": "code",
      "metadata": {
        "id": "EidjyjrE7TzQ"
      },
      "source": [
        "acc_train = accuracy_score(y_train, preds_perceptron_train)\n",
        "acc_test = accuracy_score(y_test, preds_perceptron_test)"
      ],
      "execution_count": 33,
      "outputs": []
    },
    {
      "cell_type": "code",
      "metadata": {
        "id": "16PM6SAtCVBD",
        "outputId": "cf6f613c-1c57-4534-e7b0-392ae382be4a",
        "colab": {
          "base_uri": "https://localhost:8080/"
        }
      },
      "source": [
        "print('train accuracy is:',acc_train)\n",
        "print('test accuracy is:', acc_test)"
      ],
      "execution_count": 34,
      "outputs": [
        {
          "output_type": "stream",
          "text": [
            "train accuracy is: 0.8962333333333333\n",
            "test accuracy is: 0.8897\n"
          ],
          "name": "stdout"
        }
      ]
    },
    {
      "cell_type": "code",
      "metadata": {
        "id": "kXT1KhyDCcA3"
      },
      "source": [
        "from sklearn.svm import SVC\n",
        "svc = SVC()\n",
        "svc.fit(x_train, y_train)\n",
        "preds_svc_train = svc.predict(x_train) \n",
        "preds_svc_test = svc.predict(x_test)"
      ],
      "execution_count": null,
      "outputs": []
    },
    {
      "cell_type": "code",
      "metadata": {
        "id": "9OpbDfO-CW_U"
      },
      "source": [
        "acc_train_svc = accuracy_score(y_train, preds_svc_train)\n",
        "acc_test_svc = accuracy_score(y_test, preds_svc_test)\n",
        "print(acc_train_svc)\n",
        "print(acc_test_svc)"
      ],
      "execution_count": null,
      "outputs": []
    },
    {
      "cell_type": "code",
      "metadata": {
        "id": "RdHS03EtCZbx"
      },
      "source": [
        ""
      ],
      "execution_count": null,
      "outputs": []
    }
  ]
}